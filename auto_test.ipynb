{
 "cells": [
  {
   "cell_type": "code",
   "execution_count": 1,
   "metadata": {},
   "outputs": [],
   "source": [
    "#coding=utf-8\n",
    "import xlrd \n",
    "import sys\n",
    "import random"
   ]
  },
  {
   "cell_type": "code",
   "execution_count": 2,
   "metadata": {},
   "outputs": [],
   "source": [
    "list_n = 40\n",
    "not_in_xlsx = 6"
   ]
  },
  {
   "cell_type": "code",
   "execution_count": 3,
   "metadata": {},
   "outputs": [],
   "source": [
    "vocabulary_array = {}"
   ]
  },
  {
   "cell_type": "code",
   "execution_count": 4,
   "metadata": {},
   "outputs": [],
   "source": [
    "data = xlrd.open_workbook('vocabulary.xlsx')\n",
    "for sheet_n in range(len(data.sheets())):   \n",
    "    sheet = data.sheets()[sheet_n]\n",
    "    words = sheet.col_values(1)[1:]\n",
    "    paraphrase = sheet.col_values(2)[1:]\n",
    "    voc = []\n",
    "    for i in range (len(words)):\n",
    "        voc.append((words[i],paraphrase[i],0))\n",
    "    vocabulary_array[sheet_n+not_in_xlsx] = voc\n",
    "    \n"
   ]
  },
  {
   "cell_type": "code",
   "execution_count": null,
   "metadata": {},
   "outputs": [
    {
     "name": "stdout",
     "output_type": "stream",
     "text": [
      "List = 8\n",
      "compromise\n",
      "0\n",
      "妥协，这种 0\n",
      "complacene\n",
      "1\n",
      "自满，自以为是 1\n",
      "congregate\n",
      "0\n",
      "聚集 0\n",
      "conceive\n",
      "0\n",
      "构思，设想 0\n",
      "confess \n",
      "d\n",
      "conceive 构思，设想 1\n",
      "confess \n"
     ]
    }
   ],
   "source": [
    "list_n = input('List = ')\n",
    "List = vocabulary_array[list_n]\n",
    "random.shuffle(List)\n",
    "\n",
    "i = 0\n",
    "while i <len(List):\n",
    "    print  List[i][0]\n",
    "    know =  raw_input()\n",
    "    \n",
    "    # if you don't konw the word\n",
    "    if (know == '1'):\n",
    "        List[i]= (List[i][0],List[i][1],List[i][2]+1)\n",
    "        print List[i][1],List[i][2]\n",
    "        \n",
    "    # if you know the word\n",
    "    elif (know == '0'):\n",
    "        print List[i][1],List[i][2]\n",
    "        \n",
    "    # if you find the last check is wrong, press d and set the last \n",
    "    # word as unknow\n",
    "    elif (i >0 and know == 'd'):\n",
    "        List[i-1]= (List[i-1][0],List[i-1][1],List[i-1][2]+1)\n",
    "        print List[i-1][0], List[i-1][1],List[i-1][2]\n",
    "        i = i-1\n",
    "    elif (know == 'q'):\n",
    "        break\n",
    "    i +=1\n",
    "\n",
    "List = sorted(List, key=lambda x:x[2],reverse=True)\n",
    "\n",
    "while (not List[0][2] == 0):\n",
    "    i = 0\n",
    "    while i <len(List):\n",
    "        if List[i][2] == 0:\n",
    "            continue\n",
    "        know = raw_input (List[i][0])\n",
    "        if (know == '1'):\n",
    "            List[i]= (List[i][0],List[i][1],List[i][2]+1)\n",
    "            print List[i][1],List[i][2]\n",
    "        elif (know == '0'):\n",
    "            List[i] = (List[i][0],List[i][1],List[i][2]-1)\n",
    "            print List[i][1],List[i][2]\n",
    "        elif (i >0 and know == 'd'):\n",
    "            List[i-1]= (List[i-1][0],List[i-1][1],List[i-1][2]+1)\n",
    "            print List[i-1][0] ,List[i-1][1],List[i-1][2]\n",
    "            i = i-1\n",
    "        elif (know == 'q'):\n",
    "            break\n",
    "        i +=1\n",
    "    List = sorted(List, key=lambda x:x[2],reverse=True)\n",
    "    "
   ]
  },
  {
   "cell_type": "code",
   "execution_count": null,
   "metadata": {},
   "outputs": [],
   "source": []
  },
  {
   "cell_type": "code",
   "execution_count": null,
   "metadata": {},
   "outputs": [],
   "source": [
    "print 1\n",
    "sys.clr()"
   ]
  },
  {
   "cell_type": "code",
   "execution_count": null,
   "metadata": {},
   "outputs": [],
   "source": []
  }
 ],
 "metadata": {
  "kernelspec": {
   "display_name": "Python 2.7.15 64-bit ('Anaconda': virtualenv)",
   "language": "python",
   "name": "python271564bitanacondavirtualenv04a02ee636174bc7afeed2d6c2464d74"
  },
  "language_info": {
   "codemirror_mode": {
    "name": "ipython",
    "version": 2
   },
   "file_extension": ".py",
   "mimetype": "text/x-python",
   "name": "python",
   "nbconvert_exporter": "python",
   "pygments_lexer": "ipython2",
   "version": "2.7.15"
  }
 },
 "nbformat": 4,
 "nbformat_minor": 4
}
